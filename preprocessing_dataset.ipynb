{
 "cells": [
  {
   "cell_type": "markdown",
   "metadata": {
    "heading_collapsed": true
   },
   "source": [
    "# Import dataset"
   ]
  },
  {
   "cell_type": "code",
   "execution_count": 1,
   "metadata": {
    "hidden": true
   },
   "outputs": [],
   "source": [
    "import pandas as pd"
   ]
  },
  {
   "cell_type": "code",
   "execution_count": 2,
   "metadata": {
    "hidden": true
   },
   "outputs": [],
   "source": [
    "df = pd.read_csv(\"dataset.csv\")"
   ]
  },
  {
   "cell_type": "code",
   "execution_count": 3,
   "metadata": {
    "hidden": true,
    "scrolled": true
   },
   "outputs": [
    {
     "data": {
      "text/html": [
       "<style  type=\"text/css\" >\n",
       "    #T_55f370d2_de44_11ea_9210_ebf61d001a54row0_col0 {\n",
       "            width:  300px;\n",
       "        }    #T_55f370d2_de44_11ea_9210_ebf61d001a54row0_col1 {\n",
       "            width:  300px;\n",
       "        }    #T_55f370d2_de44_11ea_9210_ebf61d001a54row1_col0 {\n",
       "            width:  300px;\n",
       "        }    #T_55f370d2_de44_11ea_9210_ebf61d001a54row1_col1 {\n",
       "            width:  300px;\n",
       "        }    #T_55f370d2_de44_11ea_9210_ebf61d001a54row2_col0 {\n",
       "            width:  300px;\n",
       "        }    #T_55f370d2_de44_11ea_9210_ebf61d001a54row2_col1 {\n",
       "            width:  300px;\n",
       "        }    #T_55f370d2_de44_11ea_9210_ebf61d001a54row3_col0 {\n",
       "            width:  300px;\n",
       "        }    #T_55f370d2_de44_11ea_9210_ebf61d001a54row3_col1 {\n",
       "            width:  300px;\n",
       "        }    #T_55f370d2_de44_11ea_9210_ebf61d001a54row4_col0 {\n",
       "            width:  300px;\n",
       "        }    #T_55f370d2_de44_11ea_9210_ebf61d001a54row4_col1 {\n",
       "            width:  300px;\n",
       "        }</style><table id=\"T_55f370d2_de44_11ea_9210_ebf61d001a54\" ><thead>    <tr>        <th class=\"blank level0\" ></th>        <th class=\"col_heading level0 col0\" >question</th>        <th class=\"col_heading level0 col1\" >answer</th>    </tr></thead><tbody>\n",
       "                <tr>\n",
       "                        <th id=\"T_55f370d2_de44_11ea_9210_ebf61d001a54level0_row0\" class=\"row_heading level0 row0\" >0</th>\n",
       "                        <td id=\"T_55f370d2_de44_11ea_9210_ebf61d001a54row0_col0\" class=\"data row0 col0\" >It is really great to see exponential growth of AppliedAI. Team's efforts to consider each and every concern, and work on it is very much appreciable. Very soon AppliedAI will be one of top most and successful teaching platform.</td>\n",
       "                        <td id=\"T_55f370d2_de44_11ea_9210_ebf61d001a54row0_col1\" class=\"data row0 col1\" >Thank you for the kind words and the trusting us. We make sure every student who has trusted us will succeed through our course.</td>\n",
       "            </tr>\n",
       "            <tr>\n",
       "                        <th id=\"T_55f370d2_de44_11ea_9210_ebf61d001a54level0_row1\" class=\"row_heading level0 row1\" >1</th>\n",
       "                        <td id=\"T_55f370d2_de44_11ea_9210_ebf61d001a54row1_col0\" class=\"data row1 col0\" >I also want to make a startup like you in the AI field, this course give me  a good start for ml and deep learning. Till the end of my B.tech ,I want to gain as much as knowledge as possible, or i can say as impossible.Now, finished my first year.\n",
       "Fully passionate for completing the case studies.</td>\n",
       "                        <td id=\"T_55f370d2_de44_11ea_9210_ebf61d001a54row1_col1\" class=\"data row1 col1\" >Learn as much as you can from this course and after your 2nd year onwards, start internships and by the time you sit for placements in your final year, you'll get as much exposure. In case if you are interested in  product development companies, along with ML, also gain strong command on CS fundamentals like Data Structures & Algorithms, Design Patterns, Operating Systems, Computer Networks, DBMS. Regarding the start up plans, once if you have some experience of around 3-5 years in the corporate, you can  think of a new startup because in order to run a startup along with the technical stuff, you also need management skills.</td>\n",
       "            </tr>\n",
       "            <tr>\n",
       "                        <th id=\"T_55f370d2_de44_11ea_9210_ebf61d001a54level0_row2\" class=\"row_heading level0 row2\" >2</th>\n",
       "                        <td id=\"T_55f370d2_de44_11ea_9210_ebf61d001a54row2_col0\" class=\"data row2 col0\" >sir, thanks for wonderful suggestions. But  What you suggest me regarding internships, I want to get some real world exposure by doing internship  in these summer vacations, I completed 10 to 11 assinments,\n",
       "Now In 10 to 15 days I 'll complete all course content, just case studies 'll left after that.\n",
       "I have full june month for completing some case studies and refresh concepts about machine learning then till the end of june ,I'll apply for internsip.\n",
       "Is this good idea.</td>\n",
       "                        <td id=\"T_55f370d2_de44_11ea_9210_ebf61d001a54row2_col1\" class=\"data row2 col1\" >Make sure your internship doesn't clash with your classes in college. Yes you can start applying for internship once if you finish the course. Once if you finish all the course content, there are chances for you to crack internships in top IT companies</td>\n",
       "            </tr>\n",
       "            <tr>\n",
       "                        <th id=\"T_55f370d2_de44_11ea_9210_ebf61d001a54level0_row3\" class=\"row_heading level0 row3\" >3</th>\n",
       "                        <td id=\"T_55f370d2_de44_11ea_9210_ebf61d001a54row3_col0\" class=\"data row3 col0\" >What are design patterns?</td>\n",
       "                        <td id=\"T_55f370d2_de44_11ea_9210_ebf61d001a54row3_col1\" class=\"data row3 col1\" >https://en.wikipedia.org/wiki/Software_design_pattern\n",
       "& https://www.geeksforgeeks.org/design-patterns-set-1-introduction/</td>\n",
       "            </tr>\n",
       "            <tr>\n",
       "                        <th id=\"T_55f370d2_de44_11ea_9210_ebf61d001a54level0_row4\" class=\"row_heading level0 row4\" >4</th>\n",
       "                        <td id=\"T_55f370d2_de44_11ea_9210_ebf61d001a54row4_col0\" class=\"data row4 col0\" >Hi\n",
       "first of all thank you for great course\n",
       "Can you please provide some modules for reinforcement learning.</td>\n",
       "                        <td id=\"T_55f370d2_de44_11ea_9210_ebf61d001a54row4_col1\" class=\"data row4 col1\" >Adding more content to the current course would make it quite bulky for most of our students to finish and stay motivated through the course. Hence, we did not add Reinforcement Learning (RL) to it as of now. We do not want out our students to be overwhelmed by the course content and workload. While we want to add more content, we don't want to overburden the students.\n",
       "\n",
       "We will probably create a new course (or) add RL to this course itself in the future (no guarantees) as optional topics. It should be easy for any of our students to pick up RL once they finish this course as they have all of the background in Maths and Deep-Learning.  Please note that no course can cover everything in ML. Often the content in this course itself is split across 2-3 courses. But we designed the course such that students can pick up new concepts fairly easily at the end of the course. Actually, some of our students have picked up RL at the end of this course fairly easily.</td>\n",
       "            </tr>\n",
       "    </tbody></table>"
      ],
      "text/plain": [
       "<pandas.io.formats.style.Styler at 0x7f2cc8592110>"
      ]
     },
     "execution_count": 3,
     "metadata": {},
     "output_type": "execute_result"
    }
   ],
   "source": [
    "df.head().style.set_properties(subset=['question', 'answer'], **{'width': '300px'})"
   ]
  },
  {
   "cell_type": "code",
   "execution_count": 4,
   "metadata": {
    "hidden": true,
    "scrolled": true
   },
   "outputs": [
    {
     "data": {
      "text/plain": [
       "False"
      ]
     },
     "execution_count": 4,
     "metadata": {},
     "output_type": "execute_result"
    }
   ],
   "source": [
    "df.isnull().values.any()"
   ]
  },
  {
   "cell_type": "markdown",
   "metadata": {
    "heading_collapsed": true
   },
   "source": [
    "# Please give suggestions on this topics"
   ]
  },
  {
   "cell_type": "code",
   "execution_count": 5,
   "metadata": {
    "hidden": true,
    "scrolled": true
   },
   "outputs": [
    {
     "data": {
      "text/plain": [
       "['What are design patterns?',\n",
       " 'https://en.wikipedia.org/wiki/Software_design_pattern\\n& https://www.geeksforgeeks.org/design-patterns-set-1-introduction/']"
      ]
     },
     "execution_count": 5,
     "metadata": {},
     "output_type": "execute_result"
    }
   ],
   "source": [
    "# Remove the rows which have answers like below\n",
    "# I think removing all the links from the answers is important preprocessing.\n",
    "df.iloc[3].to_list()"
   ]
  },
  {
   "cell_type": "code",
   "execution_count": 6,
   "metadata": {
    "hidden": true
   },
   "outputs": [
    {
     "data": {
      "text/plain": [
       "['Hello, My system configuration is \\nProcessor - AMD A8 with R5 graphics,\\nRAM - 4GB\\nIf i just increase ram to 8GB would configuration be fine to go ahead? \\nThanks',\n",
       " 'yes it will be enough. And also we can always use Google Colab which you will learn in future videos']"
      ]
     },
     "execution_count": 6,
     "metadata": {},
     "output_type": "execute_result"
    }
   ],
   "source": [
    "# Let the Capital Letter words as it is.\n",
    "# or we can create a new character before word which is completely in capital letters like AMD, RAM in the \n",
    "# question below. Students writing these words in Capital letters ---correletaed---> their collective meaning\n",
    "df.iloc[102].to_list()"
   ]
  },
  {
   "cell_type": "markdown",
   "metadata": {},
   "source": [
    "# Basic Preprocessing"
   ]
  },
  {
   "cell_type": "code",
   "execution_count": 7,
   "metadata": {},
   "outputs": [],
   "source": [
    "class data_pre_processing_class():\n",
    "    \n",
    "    def __init__(self):\n",
    "        self.preprocessed_text = \" \"\n",
    "    \n",
    "    def do_chunking(self, line):\n",
    "        sents = spacy.load('en')(line)\n",
    "        for person_name in [ee for ee in sents.ents if ee.label_ == 'PERSON']:\n",
    "            line = re.sub(str(person_name),' ',line)\n",
    "        return line\n",
    "    \n",
    "    def TextPreProce(self, Sentense):\n",
    "        # specific\n",
    "        Sentense = re.sub(r\"won't\", \"will not\", Sentense)\n",
    "        Sentense = re.sub(r\"can\\'t\", \"can not\", Sentense)\n",
    "        # general\n",
    "        Sentense = re.sub(r\"n\\'t\", \" not\", Sentense)\n",
    "        Sentense = re.sub(r\"\\'re\", \" are\", Sentense)\n",
    "        Sentense = re.sub(r\"\\'d\", \" would\", Sentense)\n",
    "        Sentense = re.sub(r\"\\'ll\", \" will\", Sentense)\n",
    "        Sentense = re.sub(r\"\\'t\", \" not\", Sentense)\n",
    "        Sentense = re.sub(r\"\\'ve\", \" have\", Sentense)\n",
    "        Sentense = re.sub(r\"\\'m\", \" am\", Sentense)\n",
    "        return Sentense\n",
    "    \n",
    "    def preprocess_data_set(self, i = 0):\n",
    "        while True:\n",
    "            for index, self.preprocessed_text in enumerate(df.iloc[:,i].to_list()):\n",
    "                # Remove the newlines, tabs. ---> https://stackoverflow.com/a/10711150\n",
    "                self.preprocessed_text = re.sub('\\s+',' ',self.preprocessed_text)\n",
    "        \n",
    "#                 # Delete all the HTML tags like \"< anyword >\" ---> https://stackoverflow.com/a/12982689\n",
    "#                 self.preprocessed_text = re.sub(r'(https?://[^\\s]+)', ' ', self.preprocessed_text)\n",
    "        \n",
    "                # Decontractions, replace words like below to full words.\n",
    "                self.preprocessed_text = self.TextPreProce(self.preprocessed_text)\n",
    "            \n",
    "                # Replace all the words except \"A-Za-z0-9@.?:_/\\'-\" with space.\n",
    "                self.preprocessed_text = re.sub('[^A-Za-z0-9@.?:_/\\'-]', ' ', self.preprocessed_text)\n",
    "    \n",
    "                # Remove the newlines, tabs. loweer case everything, strip strings.\n",
    "                df.iloc[index,i] = re.sub('\\s+', ' ',self.preprocessed_text).strip().lower()\n",
    "            i += 1\n",
    "            if i == 2: return"
   ]
  },
  {
   "cell_type": "code",
   "execution_count": 8,
   "metadata": {},
   "outputs": [],
   "source": [
    "import re, spacy"
   ]
  },
  {
   "cell_type": "code",
   "execution_count": 9,
   "metadata": {
    "scrolled": true
   },
   "outputs": [],
   "source": [
    "objectt = data_pre_processing_class()\n",
    "objectt.preprocess_data_set()"
   ]
  },
  {
   "cell_type": "code",
   "execution_count": 10,
   "metadata": {},
   "outputs": [],
   "source": [
    "df.to_csv('preprocessed_dataset.csv', index=False)"
   ]
  },
  {
   "cell_type": "code",
   "execution_count": 11,
   "metadata": {
    "scrolled": true
   },
   "outputs": [
    {
     "data": {
      "text/html": [
       "<style  type=\"text/css\" >\n",
       "    #T_5f4aba28_de44_11ea_9210_ebf61d001a54row0_col0 {\n",
       "            width:  300px;\n",
       "        }    #T_5f4aba28_de44_11ea_9210_ebf61d001a54row0_col1 {\n",
       "            width:  300px;\n",
       "        }    #T_5f4aba28_de44_11ea_9210_ebf61d001a54row1_col0 {\n",
       "            width:  300px;\n",
       "        }    #T_5f4aba28_de44_11ea_9210_ebf61d001a54row1_col1 {\n",
       "            width:  300px;\n",
       "        }    #T_5f4aba28_de44_11ea_9210_ebf61d001a54row2_col0 {\n",
       "            width:  300px;\n",
       "        }    #T_5f4aba28_de44_11ea_9210_ebf61d001a54row2_col1 {\n",
       "            width:  300px;\n",
       "        }    #T_5f4aba28_de44_11ea_9210_ebf61d001a54row3_col0 {\n",
       "            width:  300px;\n",
       "        }    #T_5f4aba28_de44_11ea_9210_ebf61d001a54row3_col1 {\n",
       "            width:  300px;\n",
       "        }    #T_5f4aba28_de44_11ea_9210_ebf61d001a54row4_col0 {\n",
       "            width:  300px;\n",
       "        }    #T_5f4aba28_de44_11ea_9210_ebf61d001a54row4_col1 {\n",
       "            width:  300px;\n",
       "        }</style><table id=\"T_5f4aba28_de44_11ea_9210_ebf61d001a54\" ><thead>    <tr>        <th class=\"blank level0\" ></th>        <th class=\"col_heading level0 col0\" >question</th>        <th class=\"col_heading level0 col1\" >answer</th>    </tr></thead><tbody>\n",
       "                <tr>\n",
       "                        <th id=\"T_5f4aba28_de44_11ea_9210_ebf61d001a54level0_row0\" class=\"row_heading level0 row0\" >0</th>\n",
       "                        <td id=\"T_5f4aba28_de44_11ea_9210_ebf61d001a54row0_col0\" class=\"data row0 col0\" >it is really great to see exponential growth of appliedai. team's efforts to consider each and every concern and work on it is very much appreciable. very soon appliedai will be one of top most and successful teaching platform.</td>\n",
       "                        <td id=\"T_5f4aba28_de44_11ea_9210_ebf61d001a54row0_col1\" class=\"data row0 col1\" >thank you for the kind words and the trusting us. we make sure every student who has trusted us will succeed through our course.</td>\n",
       "            </tr>\n",
       "            <tr>\n",
       "                        <th id=\"T_5f4aba28_de44_11ea_9210_ebf61d001a54level0_row1\" class=\"row_heading level0 row1\" >1</th>\n",
       "                        <td id=\"T_5f4aba28_de44_11ea_9210_ebf61d001a54row1_col0\" class=\"data row1 col0\" >i also want to make a startup like you in the ai field this course give me a good start for ml and deep learning. till the end of my b.tech i want to gain as much as knowledge as possible or i can say as impossible.now finished my first year. fully passionate for completing the case studies.</td>\n",
       "                        <td id=\"T_5f4aba28_de44_11ea_9210_ebf61d001a54row1_col1\" class=\"data row1 col1\" >learn as much as you can from this course and after your 2nd year onwards start internships and by the time you sit for placements in your final year you will get as much exposure. in case if you are interested in product development companies along with ml also gain strong command on cs fundamentals like data structures algorithms design patterns operating systems computer networks dbms. regarding the start up plans once if you have some experience of around 3-5 years in the corporate you can think of a new startup because in order to run a startup along with the technical stuff you also need management skills.</td>\n",
       "            </tr>\n",
       "            <tr>\n",
       "                        <th id=\"T_5f4aba28_de44_11ea_9210_ebf61d001a54level0_row2\" class=\"row_heading level0 row2\" >2</th>\n",
       "                        <td id=\"T_5f4aba28_de44_11ea_9210_ebf61d001a54row2_col0\" class=\"data row2 col0\" >sir thanks for wonderful suggestions. but what you suggest me regarding internships i want to get some real world exposure by doing internship in these summer vacations i completed 10 to 11 assinments now in 10 to 15 days i will complete all course content just case studies will left after that. i have full june month for completing some case studies and refresh concepts about machine learning then till the end of june i will apply for internsip. is this good idea.</td>\n",
       "                        <td id=\"T_5f4aba28_de44_11ea_9210_ebf61d001a54row2_col1\" class=\"data row2 col1\" >make sure your internship does not clash with your classes in college. yes you can start applying for internship once if you finish the course. once if you finish all the course content there are chances for you to crack internships in top it companies</td>\n",
       "            </tr>\n",
       "            <tr>\n",
       "                        <th id=\"T_5f4aba28_de44_11ea_9210_ebf61d001a54level0_row3\" class=\"row_heading level0 row3\" >3</th>\n",
       "                        <td id=\"T_5f4aba28_de44_11ea_9210_ebf61d001a54row3_col0\" class=\"data row3 col0\" >what are design patterns?</td>\n",
       "                        <td id=\"T_5f4aba28_de44_11ea_9210_ebf61d001a54row3_col1\" class=\"data row3 col1\" >https://en.wikipedia.org/wiki/software_design_pattern https://www.geeksforgeeks.org/design-patterns-set-1-introduction/</td>\n",
       "            </tr>\n",
       "            <tr>\n",
       "                        <th id=\"T_5f4aba28_de44_11ea_9210_ebf61d001a54level0_row4\" class=\"row_heading level0 row4\" >4</th>\n",
       "                        <td id=\"T_5f4aba28_de44_11ea_9210_ebf61d001a54row4_col0\" class=\"data row4 col0\" >hi first of all thank you for great course can you please provide some modules for reinforcement learning.</td>\n",
       "                        <td id=\"T_5f4aba28_de44_11ea_9210_ebf61d001a54row4_col1\" class=\"data row4 col1\" >adding more content to the current course would make it quite bulky for most of our students to finish and stay motivated through the course. hence we did not add reinforcement learning rl to it as of now. we do not want out our students to be overwhelmed by the course content and workload. while we want to add more content we do not want to overburden the students. we will probably create a new course or add rl to this course itself in the future no guarantees as optional topics. it should be easy for any of our students to pick up rl once they finish this course as they have all of the background in maths and deep-learning. please note that no course can cover everything in ml. often the content in this course itself is split across 2-3 courses. but we designed the course such that students can pick up new concepts fairly easily at the end of the course. actually some of our students have picked up rl at the end of this course fairly easily.</td>\n",
       "            </tr>\n",
       "    </tbody></table>"
      ],
      "text/plain": [
       "<pandas.io.formats.style.Styler at 0x7f2c97625490>"
      ]
     },
     "execution_count": 11,
     "metadata": {},
     "output_type": "execute_result"
    }
   ],
   "source": [
    "df.head().style.set_properties(subset=['question', 'answer'], **{'width': '300px'})"
   ]
  }
 ],
 "metadata": {
  "kernelspec": {
   "display_name": "Python 3",
   "language": "python",
   "name": "python3"
  },
  "language_info": {
   "codemirror_mode": {
    "name": "ipython",
    "version": 3
   },
   "file_extension": ".py",
   "mimetype": "text/x-python",
   "name": "python",
   "nbconvert_exporter": "python",
   "pygments_lexer": "ipython3",
   "version": "3.7.6"
  }
 },
 "nbformat": 4,
 "nbformat_minor": 4
}
