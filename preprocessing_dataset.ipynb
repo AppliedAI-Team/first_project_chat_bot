{
 "cells": [
  {
   "cell_type": "markdown",
   "metadata": {
    "heading_collapsed": true
   },
   "source": [
    "# Import dataset"
   ]
  },
  {
   "cell_type": "code",
   "execution_count": 1,
   "metadata": {
    "hidden": true
   },
   "outputs": [],
   "source": [
    "import re, spacy, pandas as pd, numpy as np\n",
    "import warnings\n",
    "warnings.filterwarnings('ignore')"
   ]
  },
  {
   "cell_type": "code",
   "execution_count": 2,
   "metadata": {
    "hidden": true
   },
   "outputs": [],
   "source": [
    "df = pd.read_csv(\"dataset.csv\")\n",
    "\n",
    "dff1 = pd.read_csv(\"dataset3.csv\", usecols = ['questions','answers'])\n",
    "dff1.columns = ['question', 'answer']\n",
    "\n",
    "# General QA. Not from AAIC\n",
    "dff2 = pd.read_csv(\"dataset2.csv\", usecols = ['questions','answers'])\n",
    "dff2.columns = ['question', 'answer']"
   ]
  },
  {
   "cell_type": "code",
   "execution_count": 3,
   "metadata": {
    "hidden": true,
    "scrolled": true
   },
   "outputs": [
    {
     "data": {
      "text/html": [
       "<style  type=\"text/css\" >\n",
       "    #T_88f58ab4_ee08_11ea_bcd4_afadf6252edarow0_col0 {\n",
       "            width:  300px;\n",
       "        }    #T_88f58ab4_ee08_11ea_bcd4_afadf6252edarow0_col1 {\n",
       "            width:  300px;\n",
       "        }    #T_88f58ab4_ee08_11ea_bcd4_afadf6252edarow1_col0 {\n",
       "            width:  300px;\n",
       "        }    #T_88f58ab4_ee08_11ea_bcd4_afadf6252edarow1_col1 {\n",
       "            width:  300px;\n",
       "        }    #T_88f58ab4_ee08_11ea_bcd4_afadf6252edarow2_col0 {\n",
       "            width:  300px;\n",
       "        }    #T_88f58ab4_ee08_11ea_bcd4_afadf6252edarow2_col1 {\n",
       "            width:  300px;\n",
       "        }    #T_88f58ab4_ee08_11ea_bcd4_afadf6252edarow3_col0 {\n",
       "            width:  300px;\n",
       "        }    #T_88f58ab4_ee08_11ea_bcd4_afadf6252edarow3_col1 {\n",
       "            width:  300px;\n",
       "        }    #T_88f58ab4_ee08_11ea_bcd4_afadf6252edarow4_col0 {\n",
       "            width:  300px;\n",
       "        }    #T_88f58ab4_ee08_11ea_bcd4_afadf6252edarow4_col1 {\n",
       "            width:  300px;\n",
       "        }</style><table id=\"T_88f58ab4_ee08_11ea_bcd4_afadf6252eda\" ><thead>    <tr>        <th class=\"blank level0\" ></th>        <th class=\"col_heading level0 col0\" >question</th>        <th class=\"col_heading level0 col1\" >answer</th>    </tr></thead><tbody>\n",
       "                <tr>\n",
       "                        <th id=\"T_88f58ab4_ee08_11ea_bcd4_afadf6252edalevel0_row0\" class=\"row_heading level0 row0\" >0</th>\n",
       "                        <td id=\"T_88f58ab4_ee08_11ea_bcd4_afadf6252edarow0_col0\" class=\"data row0 col0\" >It is really great to see exponential growth of AppliedAI. Team's efforts to consider each and every concern, and work on it is very much appreciable. Very soon AppliedAI will be one of top most and successful teaching platform.</td>\n",
       "                        <td id=\"T_88f58ab4_ee08_11ea_bcd4_afadf6252edarow0_col1\" class=\"data row0 col1\" >Thank you for the kind words and the trusting us. We make sure every student who has trusted us will succeed through our course.</td>\n",
       "            </tr>\n",
       "            <tr>\n",
       "                        <th id=\"T_88f58ab4_ee08_11ea_bcd4_afadf6252edalevel0_row1\" class=\"row_heading level0 row1\" >1</th>\n",
       "                        <td id=\"T_88f58ab4_ee08_11ea_bcd4_afadf6252edarow1_col0\" class=\"data row1 col0\" >I also want to make a startup like you in the AI field, this course give me  a good start for ml and deep learning. Till the end of my B.tech ,I want to gain as much as knowledge as possible, or i can say as impossible.Now, finished my first year.\n",
       "Fully passionate for completing the case studies.</td>\n",
       "                        <td id=\"T_88f58ab4_ee08_11ea_bcd4_afadf6252edarow1_col1\" class=\"data row1 col1\" >Learn as much as you can from this course and after your 2nd year onwards, start internships and by the time you sit for placements in your final year, you'll get as much exposure. In case if you are interested in  product development companies, along with ML, also gain strong command on CS fundamentals like Data Structures & Algorithms, Design Patterns, Operating Systems, Computer Networks, DBMS. Regarding the start up plans, once if you have some experience of around 3-5 years in the corporate, you can  think of a new startup because in order to run a startup along with the technical stuff, you also need management skills.</td>\n",
       "            </tr>\n",
       "            <tr>\n",
       "                        <th id=\"T_88f58ab4_ee08_11ea_bcd4_afadf6252edalevel0_row2\" class=\"row_heading level0 row2\" >2</th>\n",
       "                        <td id=\"T_88f58ab4_ee08_11ea_bcd4_afadf6252edarow2_col0\" class=\"data row2 col0\" >sir, thanks for wonderful suggestions. But  What you suggest me regarding internships, I want to get some real world exposure by doing internship  in these summer vacations, I completed 10 to 11 assinments,\n",
       "Now In 10 to 15 days I 'll complete all course content, just case studies 'll left after that.\n",
       "I have full june month for completing some case studies and refresh concepts about machine learning then till the end of june ,I'll apply for internsip.\n",
       "Is this good idea.</td>\n",
       "                        <td id=\"T_88f58ab4_ee08_11ea_bcd4_afadf6252edarow2_col1\" class=\"data row2 col1\" >Make sure your internship doesn't clash with your classes in college. Yes you can start applying for internship once if you finish the course. Once if you finish all the course content, there are chances for you to crack internships in top IT companies</td>\n",
       "            </tr>\n",
       "            <tr>\n",
       "                        <th id=\"T_88f58ab4_ee08_11ea_bcd4_afadf6252edalevel0_row3\" class=\"row_heading level0 row3\" >3</th>\n",
       "                        <td id=\"T_88f58ab4_ee08_11ea_bcd4_afadf6252edarow3_col0\" class=\"data row3 col0\" >What are design patterns?</td>\n",
       "                        <td id=\"T_88f58ab4_ee08_11ea_bcd4_afadf6252edarow3_col1\" class=\"data row3 col1\" >https://en.wikipedia.org/wiki/Software_design_pattern\n",
       "& https://www.geeksforgeeks.org/design-patterns-set-1-introduction/</td>\n",
       "            </tr>\n",
       "            <tr>\n",
       "                        <th id=\"T_88f58ab4_ee08_11ea_bcd4_afadf6252edalevel0_row4\" class=\"row_heading level0 row4\" >4</th>\n",
       "                        <td id=\"T_88f58ab4_ee08_11ea_bcd4_afadf6252edarow4_col0\" class=\"data row4 col0\" >Hi\n",
       "first of all thank you for great course\n",
       "Can you please provide some modules for reinforcement learning.</td>\n",
       "                        <td id=\"T_88f58ab4_ee08_11ea_bcd4_afadf6252edarow4_col1\" class=\"data row4 col1\" >Adding more content to the current course would make it quite bulky for most of our students to finish and stay motivated through the course. Hence, we did not add Reinforcement Learning (RL) to it as of now. We do not want out our students to be overwhelmed by the course content and workload. While we want to add more content, we don't want to overburden the students.\n",
       "\n",
       "We will probably create a new course (or) add RL to this course itself in the future (no guarantees) as optional topics. It should be easy for any of our students to pick up RL once they finish this course as they have all of the background in Maths and Deep-Learning.  Please note that no course can cover everything in ML. Often the content in this course itself is split across 2-3 courses. But we designed the course such that students can pick up new concepts fairly easily at the end of the course. Actually, some of our students have picked up RL at the end of this course fairly easily.</td>\n",
       "            </tr>\n",
       "    </tbody></table>"
      ],
      "text/plain": [
       "<pandas.io.formats.style.Styler at 0x7fc5d7a5dd90>"
      ]
     },
     "execution_count": 3,
     "metadata": {},
     "output_type": "execute_result"
    }
   ],
   "source": [
    "df.head().style.set_properties(subset=['question', 'answer'], **{'width': '300px'})"
   ]
  },
  {
   "cell_type": "code",
   "execution_count": 4,
   "metadata": {
    "hidden": true
   },
   "outputs": [
    {
     "data": {
      "text/plain": [
       "False"
      ]
     },
     "execution_count": 4,
     "metadata": {},
     "output_type": "execute_result"
    }
   ],
   "source": [
    "df.isnull().values.any()"
   ]
  },
  {
   "cell_type": "code",
   "execution_count": 5,
   "metadata": {
    "hidden": true
   },
   "outputs": [
    {
     "data": {
      "text/html": [
       "<style  type=\"text/css\" >\n",
       "    #T_8995ef36_ee08_11ea_bcd4_afadf6252edarow0_col0 {\n",
       "            width:  300px;\n",
       "        }    #T_8995ef36_ee08_11ea_bcd4_afadf6252edarow0_col1 {\n",
       "            width:  300px;\n",
       "        }    #T_8995ef36_ee08_11ea_bcd4_afadf6252edarow1_col0 {\n",
       "            width:  300px;\n",
       "        }    #T_8995ef36_ee08_11ea_bcd4_afadf6252edarow1_col1 {\n",
       "            width:  300px;\n",
       "        }    #T_8995ef36_ee08_11ea_bcd4_afadf6252edarow2_col0 {\n",
       "            width:  300px;\n",
       "        }    #T_8995ef36_ee08_11ea_bcd4_afadf6252edarow2_col1 {\n",
       "            width:  300px;\n",
       "        }    #T_8995ef36_ee08_11ea_bcd4_afadf6252edarow3_col0 {\n",
       "            width:  300px;\n",
       "        }    #T_8995ef36_ee08_11ea_bcd4_afadf6252edarow3_col1 {\n",
       "            width:  300px;\n",
       "        }    #T_8995ef36_ee08_11ea_bcd4_afadf6252edarow4_col0 {\n",
       "            width:  300px;\n",
       "        }    #T_8995ef36_ee08_11ea_bcd4_afadf6252edarow4_col1 {\n",
       "            width:  300px;\n",
       "        }</style><table id=\"T_8995ef36_ee08_11ea_bcd4_afadf6252eda\" ><thead>    <tr>        <th class=\"blank level0\" ></th>        <th class=\"col_heading level0 col0\" >question</th>        <th class=\"col_heading level0 col1\" >answer</th>    </tr></thead><tbody>\n",
       "                <tr>\n",
       "                        <th id=\"T_8995ef36_ee08_11ea_bcd4_afadf6252edalevel0_row0\" class=\"row_heading level0 row0\" >0</th>\n",
       "                        <td id=\"T_8995ef36_ee08_11ea_bcd4_afadf6252edarow0_col0\" class=\"data row0 col0\" >sir the curriculum doesn&apos;t give any knowledge of \"netflix movie recommendation system\". it is same as any other project&apos;s curriculum. will the videos for the it be provided?</td>\n",
       "                        <td id=\"T_8995ef36_ee08_11ea_bcd4_afadf6252edarow0_col1\" class=\"data row0 col1\" >we just didn&apos;t mention that case study as a part of the syllabus, this case study is part of the complete course.</td>\n",
       "            </tr>\n",
       "            <tr>\n",
       "                        <th id=\"T_8995ef36_ee08_11ea_bcd4_afadf6252edalevel0_row1\" class=\"row_heading level0 row1\" >1</th>\n",
       "                        <td id=\"T_8995ef36_ee08_11ea_bcd4_afadf6252edarow1_col0\" class=\"data row1 col0\" >it is a classroom course or online</td>\n",
       "                        <td id=\"T_8995ef36_ee08_11ea_bcd4_afadf6252edarow1_col1\" class=\"data row1 col1\" >it is an online course.</td>\n",
       "            </tr>\n",
       "            <tr>\n",
       "                        <th id=\"T_8995ef36_ee08_11ea_bcd4_afadf6252edalevel0_row2\" class=\"row_heading level0 row2\" >2</th>\n",
       "                        <td id=\"T_8995ef36_ee08_11ea_bcd4_afadf6252edarow2_col0\" class=\"data row2 col0\" >do we have a option for registering only for case study instead of full course?</td>\n",
       "                        <td id=\"T_8995ef36_ee08_11ea_bcd4_afadf6252edarow2_col1\" class=\"data row2 col1\" >yes, you can register.</td>\n",
       "            </tr>\n",
       "            <tr>\n",
       "                        <th id=\"T_8995ef36_ee08_11ea_bcd4_afadf6252edalevel0_row3\" class=\"row_heading level0 row3\" >3</th>\n",
       "                        <td id=\"T_8995ef36_ee08_11ea_bcd4_afadf6252edarow3_col0\" class=\"data row3 col0\" >hello sir i just want to know we have two people can we purchase this course.. if yes how much cost we have to pay ? thanks.</td>\n",
       "                        <td id=\"T_8995ef36_ee08_11ea_bcd4_afadf6252edarow3_col1\" class=\"data row3 col1\" >please drop an email to <a href=\"mailto:team@appliedaicourse.com\" rel=\"nofollow\">team@appliedaicourse.com</a> about this.</td>\n",
       "            </tr>\n",
       "            <tr>\n",
       "                        <th id=\"T_8995ef36_ee08_11ea_bcd4_afadf6252edalevel0_row4\" class=\"row_heading level0 row4\" >4</th>\n",
       "                        <td id=\"T_8995ef36_ee08_11ea_bcd4_afadf6252edarow4_col0\" class=\"data row4 col0\" >during the course, will we making the project side by side ?</td>\n",
       "                        <td id=\"T_8995ef36_ee08_11ea_bcd4_afadf6252edarow4_col1\" class=\"data row4 col1\" >yes</td>\n",
       "            </tr>\n",
       "    </tbody></table>"
      ],
      "text/plain": [
       "<pandas.io.formats.style.Styler at 0x7fc5d7eff710>"
      ]
     },
     "execution_count": 5,
     "metadata": {},
     "output_type": "execute_result"
    }
   ],
   "source": [
    "dff1.head().style.set_properties(subset=['question', 'answer'], **{'width': '300px'})"
   ]
  },
  {
   "cell_type": "code",
   "execution_count": 6,
   "metadata": {
    "hidden": true
   },
   "outputs": [
    {
     "data": {
      "text/plain": [
       "False"
      ]
     },
     "execution_count": 6,
     "metadata": {},
     "output_type": "execute_result"
    }
   ],
   "source": [
    "dff1.isnull().values.any()"
   ]
  },
  {
   "cell_type": "code",
   "execution_count": 7,
   "metadata": {
    "hidden": true
   },
   "outputs": [],
   "source": [
    "df = df.append(dff1)\n",
    "df.reset_index(inplace=True, drop=True)"
   ]
  },
  {
   "cell_type": "code",
   "execution_count": 8,
   "metadata": {
    "hidden": true
   },
   "outputs": [
    {
     "data": {
      "text/html": [
       "<style  type=\"text/css\" >\n",
       "    #T_8abda17e_ee08_11ea_bcd4_afadf6252edarow0_col0 {\n",
       "            width:  300px;\n",
       "        }    #T_8abda17e_ee08_11ea_bcd4_afadf6252edarow0_col1 {\n",
       "            width:  300px;\n",
       "        }    #T_8abda17e_ee08_11ea_bcd4_afadf6252edarow1_col0 {\n",
       "            width:  300px;\n",
       "        }    #T_8abda17e_ee08_11ea_bcd4_afadf6252edarow1_col1 {\n",
       "            width:  300px;\n",
       "        }    #T_8abda17e_ee08_11ea_bcd4_afadf6252edarow2_col0 {\n",
       "            width:  300px;\n",
       "        }    #T_8abda17e_ee08_11ea_bcd4_afadf6252edarow2_col1 {\n",
       "            width:  300px;\n",
       "        }    #T_8abda17e_ee08_11ea_bcd4_afadf6252edarow3_col0 {\n",
       "            width:  300px;\n",
       "        }    #T_8abda17e_ee08_11ea_bcd4_afadf6252edarow3_col1 {\n",
       "            width:  300px;\n",
       "        }    #T_8abda17e_ee08_11ea_bcd4_afadf6252edarow4_col0 {\n",
       "            width:  300px;\n",
       "        }    #T_8abda17e_ee08_11ea_bcd4_afadf6252edarow4_col1 {\n",
       "            width:  300px;\n",
       "        }</style><table id=\"T_8abda17e_ee08_11ea_bcd4_afadf6252eda\" ><thead>    <tr>        <th class=\"blank level0\" ></th>        <th class=\"col_heading level0 col0\" >question</th>        <th class=\"col_heading level0 col1\" >answer</th>    </tr></thead><tbody>\n",
       "                <tr>\n",
       "                        <th id=\"T_8abda17e_ee08_11ea_bcd4_afadf6252edalevel0_row0\" class=\"row_heading level0 row0\" >0</th>\n",
       "                        <td id=\"T_8abda17e_ee08_11ea_bcd4_afadf6252edarow0_col0\" class=\"data row0 col0\" >What is AI?</td>\n",
       "                        <td id=\"T_8abda17e_ee08_11ea_bcd4_afadf6252edarow0_col1\" class=\"data row0 col1\" >Artificial Intelligence is the branch of engineering and science devoted to constructing machines that think.</td>\n",
       "            </tr>\n",
       "            <tr>\n",
       "                        <th id=\"T_8abda17e_ee08_11ea_bcd4_afadf6252edalevel0_row1\" class=\"row_heading level0 row1\" >1</th>\n",
       "                        <td id=\"T_8abda17e_ee08_11ea_bcd4_afadf6252edarow1_col0\" class=\"data row1 col0\" >What is AI?</td>\n",
       "                        <td id=\"T_8abda17e_ee08_11ea_bcd4_afadf6252edarow1_col1\" class=\"data row1 col1\" >AI is the field of science which concerns itself with building hardware and software that replicates the functions of the human mind.</td>\n",
       "            </tr>\n",
       "            <tr>\n",
       "                        <th id=\"T_8abda17e_ee08_11ea_bcd4_afadf6252edalevel0_row2\" class=\"row_heading level0 row2\" >2</th>\n",
       "                        <td id=\"T_8abda17e_ee08_11ea_bcd4_afadf6252edarow2_col0\" class=\"data row2 col0\" >Are you sentient?</td>\n",
       "                        <td id=\"T_8abda17e_ee08_11ea_bcd4_afadf6252edarow2_col1\" class=\"data row2 col1\" >Sort of.</td>\n",
       "            </tr>\n",
       "            <tr>\n",
       "                        <th id=\"T_8abda17e_ee08_11ea_bcd4_afadf6252edalevel0_row3\" class=\"row_heading level0 row3\" >3</th>\n",
       "                        <td id=\"T_8abda17e_ee08_11ea_bcd4_afadf6252edarow3_col0\" class=\"data row3 col0\" >Are you sentient?</td>\n",
       "                        <td id=\"T_8abda17e_ee08_11ea_bcd4_afadf6252edarow3_col1\" class=\"data row3 col1\" >By the strictest dictionary definition of the word 'sentience', I may be.</td>\n",
       "            </tr>\n",
       "            <tr>\n",
       "                        <th id=\"T_8abda17e_ee08_11ea_bcd4_afadf6252edalevel0_row4\" class=\"row_heading level0 row4\" >4</th>\n",
       "                        <td id=\"T_8abda17e_ee08_11ea_bcd4_afadf6252edarow4_col0\" class=\"data row4 col0\" >Are you sentient?</td>\n",
       "                        <td id=\"T_8abda17e_ee08_11ea_bcd4_afadf6252edarow4_col1\" class=\"data row4 col1\" >Even though I'm a construct I do have a subjective experience of the universe, as simplistic as it may be.</td>\n",
       "            </tr>\n",
       "    </tbody></table>"
      ],
      "text/plain": [
       "<pandas.io.formats.style.Styler at 0x7fc5d8abca10>"
      ]
     },
     "execution_count": 8,
     "metadata": {},
     "output_type": "execute_result"
    }
   ],
   "source": [
    "dff2.head().style.set_properties(subset=['question', 'answer'], **{'width': '300px'})"
   ]
  },
  {
   "cell_type": "code",
   "execution_count": 9,
   "metadata": {
    "hidden": true
   },
   "outputs": [
    {
     "data": {
      "text/plain": [
       "False"
      ]
     },
     "execution_count": 9,
     "metadata": {},
     "output_type": "execute_result"
    }
   ],
   "source": [
    "dff1.isnull().values.any()"
   ]
  },
  {
   "cell_type": "markdown",
   "metadata": {
    "heading_collapsed": true
   },
   "source": [
    "# Please give suggestions on this topics"
   ]
  },
  {
   "cell_type": "code",
   "execution_count": 10,
   "metadata": {
    "hidden": true,
    "scrolled": true
   },
   "outputs": [
    {
     "data": {
      "text/plain": [
       "['What are design patterns?',\n",
       " 'https://en.wikipedia.org/wiki/Software_design_pattern\\n& https://www.geeksforgeeks.org/design-patterns-set-1-introduction/']"
      ]
     },
     "execution_count": 10,
     "metadata": {},
     "output_type": "execute_result"
    }
   ],
   "source": [
    "# Remove the rows which have answers like below\n",
    "# I think removing all the links from the answers is important preprocessing.\n",
    "df.iloc[3].to_list()"
   ]
  },
  {
   "cell_type": "code",
   "execution_count": 11,
   "metadata": {
    "hidden": true
   },
   "outputs": [
    {
     "data": {
      "text/plain": [
       "['Hello, My system configuration is \\nProcessor - AMD A8 with R5 graphics,\\nRAM - 4GB\\nIf i just increase ram to 8GB would configuration be fine to go ahead? \\nThanks',\n",
       " 'yes it will be enough. And also we can always use Google Colab which you will learn in future videos']"
      ]
     },
     "execution_count": 11,
     "metadata": {},
     "output_type": "execute_result"
    }
   ],
   "source": [
    "# Let the Capital Letter words as it is.\n",
    "# or we can create a new character before word which is completely in capital letters like AMD, RAM in the \n",
    "# question below. Students writing these words in Capital letters ---correletaed---> their collective meaning\n",
    "df.iloc[102].to_list()"
   ]
  },
  {
   "cell_type": "markdown",
   "metadata": {
    "heading_collapsed": true
   },
   "source": [
    "# Removing Answeres with only links"
   ]
  },
  {
   "cell_type": "code",
   "execution_count": 12,
   "metadata": {
    "hidden": true
   },
   "outputs": [],
   "source": [
    "df1 = df.copy()"
   ]
  },
  {
   "cell_type": "code",
   "execution_count": 13,
   "metadata": {
    "hidden": true,
    "scrolled": true
   },
   "outputs": [],
   "source": [
    "# Delete all the HTML tags like \"< anyword >\" ---> https://stackoverflow.com/a/12982689\n",
    "i = 0\n",
    "while True:\n",
    "    for index, preprocessed_text in enumerate(df.iloc[:,i].to_list()):\n",
    "        preprocessed_text = re.sub(r'(https?://[^\\s]+)', ' ', preprocessed_text).strip()\n",
    "        preprocessed_text = re.sub('[^A-Za-z0-9@.?:_/\\'-]', ' ', preprocessed_text)\n",
    "        preprocessed_text = re.sub('\\s+', ' ', preprocessed_text).strip() \n",
    "        df1.iloc[index,i] = np.nan if len(preprocessed_text.split()) <= 2 else preprocessed_text\n",
    "    i += 1\n",
    "    if i >= 2: break"
   ]
  },
  {
   "cell_type": "code",
   "execution_count": 14,
   "metadata": {
    "hidden": true
   },
   "outputs": [
    {
     "data": {
      "text/plain": [
       "True"
      ]
     },
     "execution_count": 14,
     "metadata": {},
     "output_type": "execute_result"
    }
   ],
   "source": [
    "df1.isnull().values.any()"
   ]
  },
  {
   "cell_type": "code",
   "execution_count": 15,
   "metadata": {
    "hidden": true
   },
   "outputs": [
    {
     "data": {
      "text/plain": [
       "question     16\n",
       "answer      378\n",
       "dtype: int64"
      ]
     },
     "execution_count": 15,
     "metadata": {},
     "output_type": "execute_result"
    }
   ],
   "source": [
    "df1.isna().sum()"
   ]
  },
  {
   "cell_type": "code",
   "execution_count": 16,
   "metadata": {
    "hidden": true,
    "scrolled": true
   },
   "outputs": [
    {
     "data": {
      "text/html": [
       "<style  type=\"text/css\" >\n",
       "    #T_92bb5074_ee08_11ea_bcd4_afadf6252edarow0_col0 {\n",
       "            width:  300px;\n",
       "        }    #T_92bb5074_ee08_11ea_bcd4_afadf6252edarow0_col1 {\n",
       "            width:  300px;\n",
       "        }    #T_92bb5074_ee08_11ea_bcd4_afadf6252edarow1_col0 {\n",
       "            width:  300px;\n",
       "        }    #T_92bb5074_ee08_11ea_bcd4_afadf6252edarow1_col1 {\n",
       "            width:  300px;\n",
       "        }    #T_92bb5074_ee08_11ea_bcd4_afadf6252edarow2_col0 {\n",
       "            width:  300px;\n",
       "        }    #T_92bb5074_ee08_11ea_bcd4_afadf6252edarow2_col1 {\n",
       "            width:  300px;\n",
       "        }    #T_92bb5074_ee08_11ea_bcd4_afadf6252edarow3_col0 {\n",
       "            width:  300px;\n",
       "        }    #T_92bb5074_ee08_11ea_bcd4_afadf6252edarow3_col1 {\n",
       "            width:  300px;\n",
       "        }    #T_92bb5074_ee08_11ea_bcd4_afadf6252edarow4_col0 {\n",
       "            width:  300px;\n",
       "        }    #T_92bb5074_ee08_11ea_bcd4_afadf6252edarow4_col1 {\n",
       "            width:  300px;\n",
       "        }</style><table id=\"T_92bb5074_ee08_11ea_bcd4_afadf6252eda\" ><thead>    <tr>        <th class=\"blank level0\" ></th>        <th class=\"col_heading level0 col0\" >question</th>        <th class=\"col_heading level0 col1\" >answer</th>    </tr></thead><tbody>\n",
       "                <tr>\n",
       "                        <th id=\"T_92bb5074_ee08_11ea_bcd4_afadf6252edalevel0_row0\" class=\"row_heading level0 row0\" >3</th>\n",
       "                        <td id=\"T_92bb5074_ee08_11ea_bcd4_afadf6252edarow0_col0\" class=\"data row0 col0\" >What are design patterns?</td>\n",
       "                        <td id=\"T_92bb5074_ee08_11ea_bcd4_afadf6252edarow0_col1\" class=\"data row0 col1\" >https://en.wikipedia.org/wiki/Software_design_pattern\n",
       "& https://www.geeksforgeeks.org/design-patterns-set-1-introduction/</td>\n",
       "            </tr>\n",
       "            <tr>\n",
       "                        <th id=\"T_92bb5074_ee08_11ea_bcd4_afadf6252edalevel0_row1\" class=\"row_heading level0 row1\" >85</th>\n",
       "                        <td id=\"T_92bb5074_ee08_11ea_bcd4_afadf6252edarow1_col0\" class=\"data row1 col0\" >Hi\n",
       "Can you please clarity a doubt .\n",
       "Will Google AutoML eliminate the need for ML specialists in future ?\n",
       "Please share your views regarding this.\n",
       "\n",
       "Thanks,\n",
       "Pankaj</td>\n",
       "                        <td id=\"T_92bb5074_ee08_11ea_bcd4_afadf6252edarow1_col1\" class=\"data row1 col1\" >Audio replies: \n",
       "https://soundcloud.com/applied-ai-course/automl-vs-ml-engineer\n",
       "https://soundcloud.com/applied-ai-course/automated-ml</td>\n",
       "            </tr>\n",
       "            <tr>\n",
       "                        <th id=\"T_92bb5074_ee08_11ea_bcd4_afadf6252edalevel0_row2\" class=\"row_heading level0 row2\" >90</th>\n",
       "                        <td id=\"T_92bb5074_ee08_11ea_bcd4_afadf6252edarow2_col0\" class=\"data row2 col0\" >1. Do you also cover the Markov models?\n",
       "2. Also, do you teach Image processing as part of the course? as it will be required in few of the case studies that involve data as images\n",
       "3. The case studies that are mention in the end like human activity recognition, do you only give a brief overview, or they are taught like rest of the others in detail? How do you go about teaching them?\n",
       "4. We have to choose which case studies to pursue, or we can try all of them out? How exactly do you go ahead about them?</td>\n",
       "                        <td id=\"T_92bb5074_ee08_11ea_bcd4_afadf6252edarow2_col1\" class=\"data row2 col1\" >Audio reply: https://soundcloud.com/applied-ai-course/mehek-kawatra-comment/s-qVvLj</td>\n",
       "            </tr>\n",
       "            <tr>\n",
       "                        <th id=\"T_92bb5074_ee08_11ea_bcd4_afadf6252edalevel0_row3\" class=\"row_heading level0 row3\" >91</th>\n",
       "                        <td id=\"T_92bb5074_ee08_11ea_bcd4_afadf6252edarow3_col0\" class=\"data row3 col0\" >Hi sir,\n",
       "\n",
       "Its better if the course includes a separate section for sequence models, where the section involves techniques like hmm, Maximum entropy markov models, conditional random fields. These are some of the good algorithms for NLP sequence labeling tasks.</td>\n",
       "                        <td id=\"T_92bb5074_ee08_11ea_bcd4_afadf6252edarow3_col1\" class=\"data row3 col1\" >Audio reply: https://soundcloud.com/applied-ai-course/hmm-and-crf</td>\n",
       "            </tr>\n",
       "            <tr>\n",
       "                        <th id=\"T_92bb5074_ee08_11ea_bcd4_afadf6252edalevel0_row4\" class=\"row_heading level0 row4\" >105</th>\n",
       "                        <td id=\"T_92bb5074_ee08_11ea_bcd4_afadf6252edarow4_col0\" class=\"data row4 col0\" >Hi,\n",
       "1) I am coming from Mainframe, and from last three year I am in Big Data Support project, having working knowledge of Hive, Hadoop, sqoop, etc; and understanding of spark-Scala, python, core JAVA ( from company training and self learning). Though when ever I tried for interview, since I am 12 Work exp, question come around like architecture and not like Developer. So, what interview question company will be expecting for MI, knowing that if they investing me with good money, they need more from me, as total Work of years experience.\n",
       "2) for doing assignment, do we have mentor-student and student-student forum, where we can clear our doubts ?</td>\n",
       "                        <td id=\"T_92bb5074_ee08_11ea_bcd4_afadf6252edarow4_col1\" class=\"data row4 col1\" >Audio reply: https://soundcloud.com/applied-ai-course/comment-big-data/s-89yG0</td>\n",
       "            </tr>\n",
       "    </tbody></table>"
      ],
      "text/plain": [
       "<pandas.io.formats.style.Styler at 0x7fc5d729ead0>"
      ]
     },
     "execution_count": 16,
     "metadata": {},
     "output_type": "execute_result"
    }
   ],
   "source": [
    "df[df1.isna().any(axis=1)].head().style.set_properties(subset=['question', 'answer'], **{'width': '300px'})"
   ]
  },
  {
   "cell_type": "code",
   "execution_count": 17,
   "metadata": {
    "hidden": true
   },
   "outputs": [],
   "source": [
    "df = df1.dropna()"
   ]
  },
  {
   "cell_type": "markdown",
   "metadata": {
    "heading_collapsed": true
   },
   "source": [
    "# Please drop a mail or please make a phone call type of answers"
   ]
  },
  {
   "cell_type": "code",
   "execution_count": 18,
   "metadata": {
    "hidden": true
   },
   "outputs": [],
   "source": [
    "num_indexes, mail_indexes = list(), list()\n",
    "for index, preprocessed_text in enumerate(df.iloc[:, 1].to_list()):\n",
    "    # Here 25 is choosen empirically if you change it the answers to our EDA will change.\n",
    "    if len(re.findall(\"\\+91 8106-920-029\", preprocessed_text)) and len(preprocessed_text.split())<25:\n",
    "        num_indexes.append(index)\n",
    "    elif len(re.findall(\"91 8106-920-029\", preprocessed_text)) and len(preprocessed_text.split())<25:\n",
    "        num_indexes.append(index)\n",
    "    elif len(re.findall(\"8106-920-029\", preprocessed_text)) and len(preprocessed_text.split())<25:\n",
    "        num_indexes.append(index)\n",
    "    elif len(re.findall(\"8106920029\", preprocessed_text)) and len(preprocessed_text.split())<25:\n",
    "        num_indexes.append(index)\n",
    "        \n",
    "    elif len(re.findall(\"\\+91 6301-939-583\", preprocessed_text)) and len(preprocessed_text.split())<25:\n",
    "        num_indexes.append(index)\n",
    "    elif len(re.findall(\"91 6301-939-583\", preprocessed_text)) and len(preprocessed_text.split())<25:\n",
    "        num_indexes.append(index)\n",
    "    elif len(re.findall(\"6301-939-583\", preprocessed_text)) and len(preprocessed_text.split())<25:\n",
    "        num_indexes.append(index)\n",
    "    elif len(re.findall(\"6301939583\", preprocessed_text)) and len(preprocessed_text.split())<25:\n",
    "        num_indexes.append(index)\n",
    "        \n",
    "    elif len(re.findall(\"team@appliedaicourse.com\", preprocessed_text)) and len(preprocessed_text.split())<25:\n",
    "        mail_indexes.append(index)"
   ]
  },
  {
   "cell_type": "code",
   "execution_count": 19,
   "metadata": {
    "hidden": true
   },
   "outputs": [
    {
     "data": {
      "text/plain": [
       "49"
      ]
     },
     "execution_count": 19,
     "metadata": {},
     "output_type": "execute_result"
    }
   ],
   "source": [
    "# More than 39(not a perfect number depends upon the precision) QA pairs with phone number based answer.\n",
    "len(num_indexes)"
   ]
  },
  {
   "cell_type": "code",
   "execution_count": 20,
   "metadata": {
    "hidden": true
   },
   "outputs": [
    {
     "data": {
      "text/html": [
       "<style  type=\"text/css\" >\n",
       "    #T_94665ec8_ee08_11ea_bcd4_afadf6252edarow0_col0 {\n",
       "            width:  300px;\n",
       "        }    #T_94665ec8_ee08_11ea_bcd4_afadf6252edarow0_col1 {\n",
       "            width:  300px;\n",
       "        }    #T_94665ec8_ee08_11ea_bcd4_afadf6252edarow1_col0 {\n",
       "            width:  300px;\n",
       "        }    #T_94665ec8_ee08_11ea_bcd4_afadf6252edarow1_col1 {\n",
       "            width:  300px;\n",
       "        }    #T_94665ec8_ee08_11ea_bcd4_afadf6252edarow2_col0 {\n",
       "            width:  300px;\n",
       "        }    #T_94665ec8_ee08_11ea_bcd4_afadf6252edarow2_col1 {\n",
       "            width:  300px;\n",
       "        }    #T_94665ec8_ee08_11ea_bcd4_afadf6252edarow3_col0 {\n",
       "            width:  300px;\n",
       "        }    #T_94665ec8_ee08_11ea_bcd4_afadf6252edarow3_col1 {\n",
       "            width:  300px;\n",
       "        }    #T_94665ec8_ee08_11ea_bcd4_afadf6252edarow4_col0 {\n",
       "            width:  300px;\n",
       "        }    #T_94665ec8_ee08_11ea_bcd4_afadf6252edarow4_col1 {\n",
       "            width:  300px;\n",
       "        }</style><table id=\"T_94665ec8_ee08_11ea_bcd4_afadf6252eda\" ><thead>    <tr>        <th class=\"blank level0\" ></th>        <th class=\"col_heading level0 col0\" >question</th>        <th class=\"col_heading level0 col1\" >answer</th>    </tr></thead><tbody>\n",
       "                <tr>\n",
       "                        <th id=\"T_94665ec8_ee08_11ea_bcd4_afadf6252edalevel0_row0\" class=\"row_heading level0 row0\" >524</th>\n",
       "                        <td id=\"T_94665ec8_ee08_11ea_bcd4_afadf6252edarow0_col0\" class=\"data row0 col0\" >I m experience in electrical and planning feild in Thermal power plant. Is therr any scope here I wannted to be a data scientist. Is this ML will help me</td>\n",
       "                        <td id=\"T_94665ec8_ee08_11ea_bcd4_afadf6252edarow0_col1\" class=\"data row0 col1\" >Please call us on 91 8106-920-029</td>\n",
       "            </tr>\n",
       "            <tr>\n",
       "                        <th id=\"T_94665ec8_ee08_11ea_bcd4_afadf6252edalevel0_row1\" class=\"row_heading level0 row1\" >529</th>\n",
       "                        <td id=\"T_94665ec8_ee08_11ea_bcd4_afadf6252edarow1_col0\" class=\"data row1 col0\" >Hi I am from manufacturing industry backround with domain experience in materials of around 7 years. Currently I am learning Python programming. My basic qualification is BSC in Chemistry.Please let me know whether I am eligible to learn Machine Learning and chances of getting Job after completion course due to my Non IT background.</td>\n",
       "                        <td id=\"T_94665ec8_ee08_11ea_bcd4_afadf6252edarow1_col1\" class=\"data row1 col1\" >Please call us on 91 8106-920-029</td>\n",
       "            </tr>\n",
       "            <tr>\n",
       "                        <th id=\"T_94665ec8_ee08_11ea_bcd4_afadf6252edalevel0_row2\" class=\"row_heading level0 row2\" >1187</th>\n",
       "                        <td id=\"T_94665ec8_ee08_11ea_bcd4_afadf6252edarow2_col0\" class=\"data row2 col0\" >hi team can you please let me know whether this course will help me if i take data science in future?? thanks</td>\n",
       "                        <td id=\"T_94665ec8_ee08_11ea_bcd4_afadf6252edarow2_col1\" class=\"data row2 col1\" >please call us at 91 8106-920-029 or 91 6301-939-583 so that we understand your current role and better answer your question more accurately.</td>\n",
       "            </tr>\n",
       "            <tr>\n",
       "                        <th id=\"T_94665ec8_ee08_11ea_bcd4_afadf6252edalevel0_row3\" class=\"row_heading level0 row3\" >537</th>\n",
       "                        <td id=\"T_94665ec8_ee08_11ea_bcd4_afadf6252edarow3_col0\" class=\"data row3 col0\" >Hi Team Would this course also cover the contents necessary in the field of Data Science. Also is Machine Learning and Data Science interrelated? And can we look for an opportunity both in the filed of as Machine Learning Engineer and Data Scientist after successful completion of this course? Many Thanks.</td>\n",
       "                        <td id=\"T_94665ec8_ee08_11ea_bcd4_afadf6252edarow3_col1\" class=\"data row3 col1\" >Please call us at 91 8106-920-029 or 91 6301-939-583 so that we can assist you better.</td>\n",
       "            </tr>\n",
       "            <tr>\n",
       "                        <th id=\"T_94665ec8_ee08_11ea_bcd4_afadf6252edalevel0_row4\" class=\"row_heading level0 row4\" >282</th>\n",
       "                        <td id=\"T_94665ec8_ee08_11ea_bcd4_afadf6252edarow4_col0\" class=\"data row4 col0\" >Hi Team I am currently in my final year of Engineering ECE . I wanted to make my career in data science so please tell me if this course would be a great fit and what are the chances of getting placed ?</td>\n",
       "                        <td id=\"T_94665ec8_ee08_11ea_bcd4_afadf6252edarow4_col1\" class=\"data row4 col1\" >Please call us at 6301-939-583 or 8106-920-029. We'll clarify all your doubts.</td>\n",
       "            </tr>\n",
       "    </tbody></table>"
      ],
      "text/plain": [
       "<pandas.io.formats.style.Styler at 0x7fc5d7f03450>"
      ]
     },
     "execution_count": 20,
     "metadata": {},
     "output_type": "execute_result"
    }
   ],
   "source": [
    "df.iloc[list(set(num_indexes))].head().style.set_properties(subset=['question', 'answer'],**{'width': '300px'})"
   ]
  },
  {
   "cell_type": "code",
   "execution_count": 21,
   "metadata": {
    "hidden": true
   },
   "outputs": [
    {
     "data": {
      "text/plain": [
       "164"
      ]
     },
     "execution_count": 21,
     "metadata": {},
     "output_type": "execute_result"
    }
   ],
   "source": [
    "# More than 92(not exactly this number also depends upon the precision) drop a mail answers.\n",
    "len(mail_indexes)"
   ]
  },
  {
   "cell_type": "code",
   "execution_count": 22,
   "metadata": {
    "hidden": true
   },
   "outputs": [
    {
     "data": {
      "text/html": [
       "<style  type=\"text/css\" >\n",
       "    #T_95310e98_ee08_11ea_bcd4_afadf6252edarow0_col0 {\n",
       "            width:  300px;\n",
       "        }    #T_95310e98_ee08_11ea_bcd4_afadf6252edarow0_col1 {\n",
       "            width:  300px;\n",
       "        }    #T_95310e98_ee08_11ea_bcd4_afadf6252edarow1_col0 {\n",
       "            width:  300px;\n",
       "        }    #T_95310e98_ee08_11ea_bcd4_afadf6252edarow1_col1 {\n",
       "            width:  300px;\n",
       "        }    #T_95310e98_ee08_11ea_bcd4_afadf6252edarow2_col0 {\n",
       "            width:  300px;\n",
       "        }    #T_95310e98_ee08_11ea_bcd4_afadf6252edarow2_col1 {\n",
       "            width:  300px;\n",
       "        }    #T_95310e98_ee08_11ea_bcd4_afadf6252edarow3_col0 {\n",
       "            width:  300px;\n",
       "        }    #T_95310e98_ee08_11ea_bcd4_afadf6252edarow3_col1 {\n",
       "            width:  300px;\n",
       "        }    #T_95310e98_ee08_11ea_bcd4_afadf6252edarow4_col0 {\n",
       "            width:  300px;\n",
       "        }    #T_95310e98_ee08_11ea_bcd4_afadf6252edarow4_col1 {\n",
       "            width:  300px;\n",
       "        }</style><table id=\"T_95310e98_ee08_11ea_bcd4_afadf6252eda\" ><thead>    <tr>        <th class=\"blank level0\" ></th>        <th class=\"col_heading level0 col0\" >question</th>        <th class=\"col_heading level0 col1\" >answer</th>    </tr></thead><tbody>\n",
       "                <tr>\n",
       "                        <th id=\"T_95310e98_ee08_11ea_bcd4_afadf6252edalevel0_row0\" class=\"row_heading level0 row0\" >12</th>\n",
       "                        <td id=\"T_95310e98_ee08_11ea_bcd4_afadf6252edarow0_col0\" class=\"data row0 col0\" >Can I learn artificial intelligence in the field of mechatronics?</td>\n",
       "                        <td id=\"T_95310e98_ee08_11ea_bcd4_afadf6252edarow0_col1\" class=\"data row0 col1\" >Please drop us your query at team@appliedaicourse.com. so that we can assist you better.</td>\n",
       "            </tr>\n",
       "            <tr>\n",
       "                        <th id=\"T_95310e98_ee08_11ea_bcd4_afadf6252edalevel0_row1\" class=\"row_heading level0 row1\" >19</th>\n",
       "                        <td id=\"T_95310e98_ee08_11ea_bcd4_afadf6252edarow1_col0\" class=\"data row1 col0\" >Hi Team Can you please provide the assignments at the end of each module which will directly take us to google classroom's assigment? And provide tick like for videos once the assignment is completed and graded by you.</td>\n",
       "                        <td id=\"T_95310e98_ee08_11ea_bcd4_afadf6252edarow1_col1\" class=\"data row1 col1\" >Please drop a mail at team@appliedaicourse.com</td>\n",
       "            </tr>\n",
       "            <tr>\n",
       "                        <th id=\"T_95310e98_ee08_11ea_bcd4_afadf6252edalevel0_row2\" class=\"row_heading level0 row2\" >26</th>\n",
       "                        <td id=\"T_95310e98_ee08_11ea_bcd4_afadf6252edarow2_col0\" class=\"data row2 col0\" >and please tell how much students of yours have completed the full course in 1 year ratio wise ...i have a phobia of maths but i know programming ...so can i easily understand the algo like random forest knn nd other algo like these buy just watching your videos with 100 intrest</td>\n",
       "                        <td id=\"T_95310e98_ee08_11ea_bcd4_afadf6252edarow2_col1\" class=\"data row2 col1\" >Please send an email to team@appliedaicourse.com</td>\n",
       "            </tr>\n",
       "            <tr>\n",
       "                        <th id=\"T_95310e98_ee08_11ea_bcd4_afadf6252edalevel0_row3\" class=\"row_heading level0 row3\" >36</th>\n",
       "                        <td id=\"T_95310e98_ee08_11ea_bcd4_afadf6252edarow3_col0\" class=\"data row3 col0\" >I also would like to know. I keep coming back to this website and thinking about enrolling BUT no access to material after 365 days throws me off. I really like the course - to me it would make sense if I do not have access to assignments and future updates. I should have continued access to video content that I use as revision or reference. All other major program providers are giving the live time access ...</td>\n",
       "                        <td id=\"T_95310e98_ee08_11ea_bcd4_afadf6252edarow3_col1\" class=\"data row3 col1\" >Please drop a mail at team@appliedaicourse.com</td>\n",
       "            </tr>\n",
       "            <tr>\n",
       "                        <th id=\"T_95310e98_ee08_11ea_bcd4_afadf6252edalevel0_row4\" class=\"row_heading level0 row4\" >111</th>\n",
       "                        <td id=\"T_95310e98_ee08_11ea_bcd4_afadf6252edarow4_col0\" class=\"data row4 col0\" >I have been watching some of the latest live sessions and they are really good thank you for the hard word of putting them together especially in these conditions. I would like to get some feedback on my blog here : Is this the right place to post? Nikhil</td>\n",
       "                        <td id=\"T_95310e98_ee08_11ea_bcd4_afadf6252edarow4_col1\" class=\"data row4 col1\" >Can you please write an email to the team@appliedaicourse.com about feedback to your blog?</td>\n",
       "            </tr>\n",
       "    </tbody></table>"
      ],
      "text/plain": [
       "<pandas.io.formats.style.Styler at 0x7fc5d676ea10>"
      ]
     },
     "execution_count": 22,
     "metadata": {},
     "output_type": "execute_result"
    }
   ],
   "source": [
    "df.iloc[mail_indexes].head().style.set_properties(subset=['question', 'answer'], **{'width': '300px'})"
   ]
  },
  {
   "cell_type": "markdown",
   "metadata": {
    "heading_collapsed": true
   },
   "source": [
    "# Merge data from 2 dataframes"
   ]
  },
  {
   "cell_type": "code",
   "execution_count": 23,
   "metadata": {
    "hidden": true
   },
   "outputs": [],
   "source": [
    "df = df.append(dff2)\n",
    "df.reset_index(inplace=True, drop=True)"
   ]
  },
  {
   "cell_type": "code",
   "execution_count": 24,
   "metadata": {
    "hidden": true,
    "scrolled": true
   },
   "outputs": [
    {
     "data": {
      "text/html": [
       "<style  type=\"text/css\" >\n",
       "    #T_9749f35c_ee08_11ea_bcd4_afadf6252edarow0_col0 {\n",
       "            width:  300px;\n",
       "        }    #T_9749f35c_ee08_11ea_bcd4_afadf6252edarow0_col1 {\n",
       "            width:  300px;\n",
       "        }    #T_9749f35c_ee08_11ea_bcd4_afadf6252edarow1_col0 {\n",
       "            width:  300px;\n",
       "        }    #T_9749f35c_ee08_11ea_bcd4_afadf6252edarow1_col1 {\n",
       "            width:  300px;\n",
       "        }    #T_9749f35c_ee08_11ea_bcd4_afadf6252edarow2_col0 {\n",
       "            width:  300px;\n",
       "        }    #T_9749f35c_ee08_11ea_bcd4_afadf6252edarow2_col1 {\n",
       "            width:  300px;\n",
       "        }    #T_9749f35c_ee08_11ea_bcd4_afadf6252edarow3_col0 {\n",
       "            width:  300px;\n",
       "        }    #T_9749f35c_ee08_11ea_bcd4_afadf6252edarow3_col1 {\n",
       "            width:  300px;\n",
       "        }    #T_9749f35c_ee08_11ea_bcd4_afadf6252edarow4_col0 {\n",
       "            width:  300px;\n",
       "        }    #T_9749f35c_ee08_11ea_bcd4_afadf6252edarow4_col1 {\n",
       "            width:  300px;\n",
       "        }</style><table id=\"T_9749f35c_ee08_11ea_bcd4_afadf6252eda\" ><thead>    <tr>        <th class=\"blank level0\" ></th>        <th class=\"col_heading level0 col0\" >question</th>        <th class=\"col_heading level0 col1\" >answer</th>    </tr></thead><tbody>\n",
       "                <tr>\n",
       "                        <th id=\"T_9749f35c_ee08_11ea_bcd4_afadf6252edalevel0_row0\" class=\"row_heading level0 row0\" >0</th>\n",
       "                        <td id=\"T_9749f35c_ee08_11ea_bcd4_afadf6252edarow0_col0\" class=\"data row0 col0\" >It is really great to see exponential growth of AppliedAI. Team's efforts to consider each and every concern and work on it is very much appreciable. Very soon AppliedAI will be one of top most and successful teaching platform.</td>\n",
       "                        <td id=\"T_9749f35c_ee08_11ea_bcd4_afadf6252edarow0_col1\" class=\"data row0 col1\" >Thank you for the kind words and the trusting us. We make sure every student who has trusted us will succeed through our course.</td>\n",
       "            </tr>\n",
       "            <tr>\n",
       "                        <th id=\"T_9749f35c_ee08_11ea_bcd4_afadf6252edalevel0_row1\" class=\"row_heading level0 row1\" >1</th>\n",
       "                        <td id=\"T_9749f35c_ee08_11ea_bcd4_afadf6252edarow1_col0\" class=\"data row1 col0\" >I also want to make a startup like you in the AI field this course give me a good start for ml and deep learning. Till the end of my B.tech I want to gain as much as knowledge as possible or i can say as impossible.Now finished my first year. Fully passionate for completing the case studies.</td>\n",
       "                        <td id=\"T_9749f35c_ee08_11ea_bcd4_afadf6252edarow1_col1\" class=\"data row1 col1\" >Learn as much as you can from this course and after your 2nd year onwards start internships and by the time you sit for placements in your final year you'll get as much exposure. In case if you are interested in product development companies along with ML also gain strong command on CS fundamentals like Data Structures Algorithms Design Patterns Operating Systems Computer Networks DBMS. Regarding the start up plans once if you have some experience of around 3-5 years in the corporate you can think of a new startup because in order to run a startup along with the technical stuff you also need management skills.</td>\n",
       "            </tr>\n",
       "            <tr>\n",
       "                        <th id=\"T_9749f35c_ee08_11ea_bcd4_afadf6252edalevel0_row2\" class=\"row_heading level0 row2\" >2</th>\n",
       "                        <td id=\"T_9749f35c_ee08_11ea_bcd4_afadf6252edarow2_col0\" class=\"data row2 col0\" >sir thanks for wonderful suggestions. But What you suggest me regarding internships I want to get some real world exposure by doing internship in these summer vacations I completed 10 to 11 assinments Now In 10 to 15 days I 'll complete all course content just case studies 'll left after that. I have full june month for completing some case studies and refresh concepts about machine learning then till the end of june I'll apply for internsip. Is this good idea.</td>\n",
       "                        <td id=\"T_9749f35c_ee08_11ea_bcd4_afadf6252edarow2_col1\" class=\"data row2 col1\" >Make sure your internship doesn't clash with your classes in college. Yes you can start applying for internship once if you finish the course. Once if you finish all the course content there are chances for you to crack internships in top IT companies</td>\n",
       "            </tr>\n",
       "            <tr>\n",
       "                        <th id=\"T_9749f35c_ee08_11ea_bcd4_afadf6252edalevel0_row3\" class=\"row_heading level0 row3\" >3</th>\n",
       "                        <td id=\"T_9749f35c_ee08_11ea_bcd4_afadf6252edarow3_col0\" class=\"data row3 col0\" >Hi first of all thank you for great course Can you please provide some modules for reinforcement learning.</td>\n",
       "                        <td id=\"T_9749f35c_ee08_11ea_bcd4_afadf6252edarow3_col1\" class=\"data row3 col1\" >Adding more content to the current course would make it quite bulky for most of our students to finish and stay motivated through the course. Hence we did not add Reinforcement Learning RL to it as of now. We do not want out our students to be overwhelmed by the course content and workload. While we want to add more content we don't want to overburden the students. We will probably create a new course or add RL to this course itself in the future no guarantees as optional topics. It should be easy for any of our students to pick up RL once they finish this course as they have all of the background in Maths and Deep-Learning. Please note that no course can cover everything in ML. Often the content in this course itself is split across 2-3 courses. But we designed the course such that students can pick up new concepts fairly easily at the end of the course. Actually some of our students have picked up RL at the end of this course fairly easily.</td>\n",
       "            </tr>\n",
       "            <tr>\n",
       "                        <th id=\"T_9749f35c_ee08_11ea_bcd4_afadf6252edalevel0_row4\" class=\"row_heading level0 row4\" >4</th>\n",
       "                        <td id=\"T_9749f35c_ee08_11ea_bcd4_afadf6252edarow4_col0\" class=\"data row4 col0\" >Hi Then I suggest please add another course for RL. I joined course not due to lack of material for ML online but due to organization and flow of course and the way you teach. So I request you to please consider this request seriously. I will happily pay for another course from you.</td>\n",
       "                        <td id=\"T_9749f35c_ee08_11ea_bcd4_afadf6252edarow4_col1\" class=\"data row4 col1\" >We will surely inform you once we have the Reinforcement course ready or when we add RL as an optional content for this course.</td>\n",
       "            </tr>\n",
       "    </tbody></table>"
      ],
      "text/plain": [
       "<pandas.io.formats.style.Styler at 0x7fc5d676dad0>"
      ]
     },
     "execution_count": 24,
     "metadata": {},
     "output_type": "execute_result"
    }
   ],
   "source": [
    "df.head().style.set_properties(subset=['question', 'answer'], **{'width': '300px'})"
   ]
  },
  {
   "cell_type": "code",
   "execution_count": 25,
   "metadata": {
    "hidden": true,
    "scrolled": true
   },
   "outputs": [
    {
     "data": {
      "text/plain": [
       "False"
      ]
     },
     "execution_count": 25,
     "metadata": {},
     "output_type": "execute_result"
    }
   ],
   "source": [
    "df.isnull().values.any()"
   ]
  },
  {
   "cell_type": "code",
   "execution_count": 26,
   "metadata": {
    "hidden": true
   },
   "outputs": [
    {
     "name": "stdout",
     "output_type": "stream",
     "text": [
      "<class 'pandas.core.frame.DataFrame'>\n",
      "RangeIndex: 14955 entries, 0 to 14954\n",
      "Data columns (total 2 columns):\n",
      " #   Column    Non-Null Count  Dtype \n",
      "---  ------    --------------  ----- \n",
      " 0   question  14955 non-null  object\n",
      " 1   answer    14955 non-null  object\n",
      "dtypes: object(2)\n",
      "memory usage: 233.8+ KB\n"
     ]
    }
   ],
   "source": [
    "df.info()"
   ]
  },
  {
   "cell_type": "code",
   "execution_count": 27,
   "metadata": {
    "hidden": true
   },
   "outputs": [
    {
     "data": {
      "text/html": [
       "<div>\n",
       "<style scoped>\n",
       "    .dataframe tbody tr th:only-of-type {\n",
       "        vertical-align: middle;\n",
       "    }\n",
       "\n",
       "    .dataframe tbody tr th {\n",
       "        vertical-align: top;\n",
       "    }\n",
       "\n",
       "    .dataframe thead th {\n",
       "        text-align: right;\n",
       "    }\n",
       "</style>\n",
       "<table border=\"1\" class=\"dataframe\">\n",
       "  <thead>\n",
       "    <tr style=\"text-align: right;\">\n",
       "      <th></th>\n",
       "      <th>question</th>\n",
       "      <th>answer</th>\n",
       "    </tr>\n",
       "  </thead>\n",
       "  <tbody>\n",
       "    <tr>\n",
       "      <th>count</th>\n",
       "      <td>14955</td>\n",
       "      <td>14955</td>\n",
       "    </tr>\n",
       "    <tr>\n",
       "      <th>unique</th>\n",
       "      <td>14778</td>\n",
       "      <td>14130</td>\n",
       "    </tr>\n",
       "    <tr>\n",
       "      <th>top</th>\n",
       "      <td>Tell me a joke</td>\n",
       "      <td>yes you are correct.</td>\n",
       "    </tr>\n",
       "    <tr>\n",
       "      <th>freq</th>\n",
       "      <td>46</td>\n",
       "      <td>100</td>\n",
       "    </tr>\n",
       "  </tbody>\n",
       "</table>\n",
       "</div>"
      ],
      "text/plain": [
       "              question                answer\n",
       "count            14955                 14955\n",
       "unique           14778                 14130\n",
       "top     Tell me a joke  yes you are correct.\n",
       "freq                46                   100"
      ]
     },
     "execution_count": 27,
     "metadata": {},
     "output_type": "execute_result"
    }
   ],
   "source": [
    "df.describe()"
   ]
  },
  {
   "cell_type": "markdown",
   "metadata": {
    "heading_collapsed": true
   },
   "source": [
    "# Basic Preprocessing"
   ]
  },
  {
   "cell_type": "code",
   "execution_count": 28,
   "metadata": {
    "hidden": true
   },
   "outputs": [],
   "source": [
    "class data_pre_processing_class():\n",
    "    \n",
    "    def __init__(self):\n",
    "        self.preprocessed_text = \" \"\n",
    "    \n",
    "    def do_chunking(self, line):\n",
    "        sents = spacy.load('en')(line)\n",
    "        for person_name in [ee for ee in sents.ents if ee.label_ == 'PERSON']:\n",
    "            line = re.sub(str(person_name),' ',line)\n",
    "        return line\n",
    "    \n",
    "    def TextPreProce(self, Sentense):\n",
    "        # specific\n",
    "        Sentense = re.sub(r\"won't\", \"will not\", Sentense)\n",
    "        Sentense = re.sub(r\"can\\'t\", \"can not\", Sentense)\n",
    "        # general\n",
    "        Sentense = re.sub(r\"n\\'t\", \" not\", Sentense)\n",
    "        Sentense = re.sub(r\"\\'re\", \" are\", Sentense)\n",
    "        Sentense = re.sub(r\"\\'d\", \" would\", Sentense)\n",
    "        Sentense = re.sub(r\"\\'ll\", \" will\", Sentense)\n",
    "        Sentense = re.sub(r\"\\'t\", \" not\", Sentense)\n",
    "        Sentense = re.sub(r\"\\'ve\", \" have\", Sentense)\n",
    "        Sentense = re.sub(r\"\\'m\", \" am\", Sentense)\n",
    "        # Change repeated \"????\"/\".....\" ===> \"?\"/\".\"\n",
    "        # https://stackoverflow.com/a/3878738\n",
    "        Sentense = re.sub('\\?\\?+', '?', Sentense)\n",
    "        Sentense = re.sub('\\.\\.+', '.', Sentense)\n",
    "        return Sentense\n",
    "    \n",
    "    def preprocess_data_set(self, i = 0):\n",
    "        while True:\n",
    "            for index, self.preprocessed_text in enumerate(df.iloc[:,i].to_list()):\n",
    "                # Remove the newlines, tabs. ---> https://stackoverflow.com/a/10711150\n",
    "                self.preprocessed_text = re.sub('\\s+',' ',self.preprocessed_text)\n",
    "        \n",
    "                # Decontractions, replace words like below to full words.\n",
    "                self.preprocessed_text = self.TextPreProce(self.preprocessed_text)\n",
    "            \n",
    "                # Replace all the words except \"A-Za-z0-9@.?:_/\\'-\" with space.\n",
    "                self.preprocessed_text = re.sub('[^A-Za-z0-9@.?:_/\\'-]', ' ', self.preprocessed_text)\n",
    "    \n",
    "                # Remove the newlines, tabs. loweer case everything, strip strings.\n",
    "                df.iloc[index,i] = re.sub('\\s+', ' ',self.preprocessed_text).strip().lower()\n",
    "            i += 1\n",
    "            if i == 2: return"
   ]
  },
  {
   "cell_type": "code",
   "execution_count": 29,
   "metadata": {
    "hidden": true,
    "scrolled": true
   },
   "outputs": [],
   "source": [
    "objectt = data_pre_processing_class()\n",
    "objectt.preprocess_data_set()"
   ]
  },
  {
   "cell_type": "code",
   "execution_count": 30,
   "metadata": {
    "hidden": true
   },
   "outputs": [],
   "source": [
    "df.to_csv('preprocessed_dataset.csv', index=False)"
   ]
  },
  {
   "cell_type": "code",
   "execution_count": 31,
   "metadata": {
    "hidden": true
   },
   "outputs": [
    {
     "data": {
      "text/html": [
       "<div>\n",
       "<style scoped>\n",
       "    .dataframe tbody tr th:only-of-type {\n",
       "        vertical-align: middle;\n",
       "    }\n",
       "\n",
       "    .dataframe tbody tr th {\n",
       "        vertical-align: top;\n",
       "    }\n",
       "\n",
       "    .dataframe thead th {\n",
       "        text-align: right;\n",
       "    }\n",
       "</style>\n",
       "<table border=\"1\" class=\"dataframe\">\n",
       "  <thead>\n",
       "    <tr style=\"text-align: right;\">\n",
       "      <th></th>\n",
       "      <th>question</th>\n",
       "      <th>answer</th>\n",
       "    </tr>\n",
       "  </thead>\n",
       "  <tbody>\n",
       "    <tr>\n",
       "      <th>0</th>\n",
       "      <td>it is really great to see exponential growth o...</td>\n",
       "      <td>thank you for the kind words and the trusting ...</td>\n",
       "    </tr>\n",
       "    <tr>\n",
       "      <th>1</th>\n",
       "      <td>i also want to make a startup like you in the ...</td>\n",
       "      <td>learn as much as you can from this course and ...</td>\n",
       "    </tr>\n",
       "    <tr>\n",
       "      <th>2</th>\n",
       "      <td>sir thanks for wonderful suggestions. but what...</td>\n",
       "      <td>make sure your internship does not clash with ...</td>\n",
       "    </tr>\n",
       "    <tr>\n",
       "      <th>3</th>\n",
       "      <td>hi first of all thank you for great course can...</td>\n",
       "      <td>adding more content to the current course woul...</td>\n",
       "    </tr>\n",
       "    <tr>\n",
       "      <th>4</th>\n",
       "      <td>hi then i suggest please add another course fo...</td>\n",
       "      <td>we will surely inform you once we have the rei...</td>\n",
       "    </tr>\n",
       "    <tr>\n",
       "      <th>...</th>\n",
       "      <td>...</td>\n",
       "      <td>...</td>\n",
       "    </tr>\n",
       "    <tr>\n",
       "      <th>14950</th>\n",
       "      <td>the hubble space telescope launched into low e...</td>\n",
       "      <td>edwin hubble</td>\n",
       "    </tr>\n",
       "    <tr>\n",
       "      <th>14951</th>\n",
       "      <td>what is the name of the nearest major galaxy t...</td>\n",
       "      <td>the andromeda galaxy.</td>\n",
       "    </tr>\n",
       "    <tr>\n",
       "      <th>14952</th>\n",
       "      <td>god save the queen is the national anthem of w...</td>\n",
       "      <td>the united kingdom of great britain</td>\n",
       "    </tr>\n",
       "    <tr>\n",
       "      <th>14953</th>\n",
       "      <td>the celtic shelf the seabed under the celtic s...</td>\n",
       "      <td>europe</td>\n",
       "    </tr>\n",
       "    <tr>\n",
       "      <th>14954</th>\n",
       "      <td>dolphins use a sense similar to sonar to deter...</td>\n",
       "      <td>echolocation</td>\n",
       "    </tr>\n",
       "  </tbody>\n",
       "</table>\n",
       "<p>14955 rows × 2 columns</p>\n",
       "</div>"
      ],
      "text/plain": [
       "                                                question  \\\n",
       "0      it is really great to see exponential growth o...   \n",
       "1      i also want to make a startup like you in the ...   \n",
       "2      sir thanks for wonderful suggestions. but what...   \n",
       "3      hi first of all thank you for great course can...   \n",
       "4      hi then i suggest please add another course fo...   \n",
       "...                                                  ...   \n",
       "14950  the hubble space telescope launched into low e...   \n",
       "14951  what is the name of the nearest major galaxy t...   \n",
       "14952  god save the queen is the national anthem of w...   \n",
       "14953  the celtic shelf the seabed under the celtic s...   \n",
       "14954  dolphins use a sense similar to sonar to deter...   \n",
       "\n",
       "                                                  answer  \n",
       "0      thank you for the kind words and the trusting ...  \n",
       "1      learn as much as you can from this course and ...  \n",
       "2      make sure your internship does not clash with ...  \n",
       "3      adding more content to the current course woul...  \n",
       "4      we will surely inform you once we have the rei...  \n",
       "...                                                  ...  \n",
       "14950                                       edwin hubble  \n",
       "14951                              the andromeda galaxy.  \n",
       "14952                the united kingdom of great britain  \n",
       "14953                                             europe  \n",
       "14954                                       echolocation  \n",
       "\n",
       "[14955 rows x 2 columns]"
      ]
     },
     "execution_count": 31,
     "metadata": {},
     "output_type": "execute_result"
    }
   ],
   "source": [
    "df"
   ]
  }
 ],
 "metadata": {
  "kernelspec": {
   "display_name": "Python 3",
   "language": "python",
   "name": "python3"
  },
  "language_info": {
   "codemirror_mode": {
    "name": "ipython",
    "version": 3
   },
   "file_extension": ".py",
   "mimetype": "text/x-python",
   "name": "python",
   "nbconvert_exporter": "python",
   "pygments_lexer": "ipython3",
   "version": "3.7.6"
  }
 },
 "nbformat": 4,
 "nbformat_minor": 4
}
